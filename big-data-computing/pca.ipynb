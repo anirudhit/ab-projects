{
 "cells": [
  {
   "cell_type": "markdown",
   "metadata": {
    "colab_type": "text",
    "id": "moE1Ep7Rp4PV"
   },
   "source": [
    "# -*- Question 6 -*-\n",
    "Created on Sat Sep 28 09:32:21 2019\n",
    "\n",
    "@author: Anirudh Bellamkonda"
   ]
  },
  {
   "cell_type": "code",
   "execution_count": 1,
   "metadata": {
    "colab": {},
    "colab_type": "code",
    "id": "q-KZj8vfqz5A"
   },
   "outputs": [],
   "source": [
    "import numpy as np\n",
    "from numpy import linalg as la"
   ]
  },
  {
   "cell_type": "code",
   "execution_count": 3,
   "metadata": {
    "colab": {},
    "colab_type": "code",
    "id": "OvuYYgJSp1Oe"
   },
   "outputs": [],
   "source": [
    "x   = np.array([[4,-2,3],[-5,0,2]])\n",
    "\n",
    "# Calculating X matrix transpose\n",
    "x_t = x.transpose()\n"
   ]
  },
  {
   "cell_type": "markdown",
   "metadata": {
    "colab_type": "text",
    "id": "g0Doi5nfrOJa"
   },
   "source": [
    "# Finding covarience matrix\n"
   ]
  },
  {
   "cell_type": "code",
   "execution_count": 4,
   "metadata": {
    "colab": {
     "base_uri": "https://localhost:8080/",
     "height": 52
    },
    "colab_type": "code",
    "id": "2BG73A4wrTVr",
    "outputId": "2ee31c73-d1c5-4cd6-a708-86f40ddcf5a5"
   },
   "outputs": [
    {
     "name": "stdout",
     "output_type": "stream",
     "text": [
      "Covarience matrix [[ 29 -14]\n",
      " [-14  29]]\n"
     ]
    }
   ],
   "source": [
    "c  = x.dot(x_t)\n",
    "print(\"Covarience matrix\",c)"
   ]
  },
  {
   "cell_type": "markdown",
   "metadata": {
    "colab_type": "text",
    "id": "1BZhPK1BrwCa"
   },
   "source": [
    "# Finding PCA for matrix x"
   ]
  },
  {
   "cell_type": "code",
   "execution_count": 5,
   "metadata": {
    "colab": {
     "base_uri": "https://localhost:8080/",
     "height": 70
    },
    "colab_type": "code",
    "id": "IvY4Qv9rr2Od",
    "outputId": "b34c1f28-9889-4068-fd88-02c2fc1867c8"
   },
   "outputs": [
    {
     "name": "stdout",
     "output_type": "stream",
     "text": [
      "Eigen values : [43. 15.]\n",
      "Eigen vectors : [[ 0.70710678  0.70710678]\n",
      " [-0.70710678  0.70710678]]\n"
     ]
    }
   ],
   "source": [
    "eigen_values, eigen_vectors = la.eig(c)\n",
    "print(\"Eigen values :\",eigen_values)\n",
    "print(\"Eigen vectors :\",eigen_vectors)"
   ]
  }
 ],
 "metadata": {
  "colab": {
   "name": "pca.ipynb",
   "provenance": []
  },
  "kernelspec": {
   "display_name": "Python 3",
   "language": "python",
   "name": "python3"
  },
  "language_info": {
   "codemirror_mode": {
    "name": "ipython",
    "version": 3
   },
   "file_extension": ".py",
   "mimetype": "text/x-python",
   "name": "python",
   "nbconvert_exporter": "python",
   "pygments_lexer": "ipython3",
   "version": "3.7.4"
  }
 },
 "nbformat": 4,
 "nbformat_minor": 1
}
