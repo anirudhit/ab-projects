{
 "cells": [
  {
   "cell_type": "markdown",
   "metadata": {
    "colab_type": "text",
    "id": "MUhVZQTSWPWF"
   },
   "source": [
    "# -*- Question 4 -*-\n",
    "\n",
    "Created on Thur Sep 26 11:15:35 2019\n",
    "\n",
    "@author: Anirudh Bellamkonda"
   ]
  },
  {
   "cell_type": "code",
   "execution_count": 1,
   "metadata": {
    "colab": {},
    "colab_type": "code",
    "id": "uf0k6P0BVayW"
   },
   "outputs": [],
   "source": [
    "import numpy as np\n",
    "import matplotlib.pyplot as plt\n",
    "from sklearn.linear_model import LinearRegression"
   ]
  },
  {
   "cell_type": "markdown",
   "metadata": {
    "colab_type": "text",
    "id": "KMgGJXMbcYEA"
   },
   "source": [
    "# Problem data"
   ]
  },
  {
   "cell_type": "code",
   "execution_count": 2,
   "metadata": {
    "colab": {},
    "colab_type": "code",
    "id": "hRQwA8QAW72a"
   },
   "outputs": [],
   "source": [
    "month_data  =   [[3],[5],[7],[9],[12],[15],[18]]\n",
    "profit_data =   [[100],[250],[330],[590],[660],[780],[890]]"
   ]
  },
  {
   "cell_type": "markdown",
   "metadata": {
    "colab_type": "text",
    "id": "uxB78SydcY-x"
   },
   "source": [
    "# Estimating the coefficients"
   ]
  },
  {
   "cell_type": "code",
   "execution_count": 3,
   "metadata": {
    "colab": {
     "base_uri": "https://localhost:8080/",
     "height": 34
    },
    "colab_type": "code",
    "id": "OcLhe30YcwhD",
    "outputId": "b3e0f183-2a06-46c7-c4a3-72376aeaa661"
   },
   "outputs": [
    {
     "data": {
      "text/plain": [
       "LinearRegression(copy_X=True, fit_intercept=True, n_jobs=None, normalize=False)"
      ]
     },
     "execution_count": 3,
     "metadata": {},
     "output_type": "execute_result"
    }
   ],
   "source": [
    "model = LinearRegression()\n",
    "model.fit(month_data,profit_data)"
   ]
  },
  {
   "cell_type": "markdown",
   "metadata": {
    "colab_type": "text",
    "id": "rCcf60CRzO19"
   },
   "source": [
    "# Printing the coefficients"
   ]
  },
  {
   "cell_type": "code",
   "execution_count": 4,
   "metadata": {
    "colab": {
     "base_uri": "https://localhost:8080/",
     "height": 52
    },
    "colab_type": "code",
    "id": "zEZUQ5cYzPNU",
    "outputId": "8fc32a94-a873-4f54-8d4f-0af3c0051e01"
   },
   "outputs": [
    {
     "name": "stdout",
     "output_type": "stream",
     "text": [
      "alpha:  -5.403877221324706\n",
      "beta:   52.7221324717286\n"
     ]
    }
   ],
   "source": [
    "alpha = model.intercept_\n",
    "print(\"alpha: \",alpha[0])\n",
    "beta  = model.coef_\n",
    "print(\"beta:  \",beta[0][0])"
   ]
  },
  {
   "cell_type": "markdown",
   "metadata": {
    "colab_type": "text",
    "id": "-P6Qose4xqEh"
   },
   "source": [
    "# Expected profit over the next year"
   ]
  },
  {
   "cell_type": "code",
   "execution_count": 5,
   "metadata": {
    "colab": {
     "base_uri": "https://localhost:8080/",
     "height": 34
    },
    "colab_type": "code",
    "id": "QxnGZBaIj1TD",
    "outputId": "cd28d3d7-0b33-4e22-ad4d-e4c5c9033f38"
   },
   "outputs": [
    {
     "name": "stdout",
     "output_type": "stream",
     "text": [
      "Expected profit over next year: 1576.260096930533\n"
     ]
    }
   ],
   "source": [
    "next_year_profit = model.predict([[30]])\n",
    "print(\"Expected profit over next year: {}\".format(next_year_profit[0][0]))"
   ]
  },
  {
   "cell_type": "markdown",
   "metadata": {
    "colab_type": "text",
    "id": "4O5mZsrRyGY-"
   },
   "source": [
    "# Estimated profit rate change in next year"
   ]
  },
  {
   "cell_type": "code",
   "execution_count": 6,
   "metadata": {
    "colab": {
     "base_uri": "https://localhost:8080/",
     "height": 34
    },
    "colab_type": "code",
    "id": "n32lv348yHS6",
    "outputId": "f9693eab-5d50-4ccc-aaf3-acca17bdf6b3"
   },
   "outputs": [
    {
     "name": "stdout",
     "output_type": "stream",
     "text": [
      "Estimated profit rate change in next year: 1.7710787605961047\n"
     ]
    }
   ],
   "source": [
    "next_year_profit_estimated = next_year_profit[0]/profit_data[6]\n",
    "print(\"Estimated profit rate change in next year: {}\".format(next_year_profit_estimated[0]))"
   ]
  },
  {
   "cell_type": "code",
   "execution_count": 7,
   "metadata": {
    "colab": {
     "base_uri": "https://localhost:8080/",
     "height": 283
    },
    "colab_type": "code",
    "id": "z-AK-EbAlS43",
    "outputId": "f9d41542-21d8-4e61-e176-cc8ae051b6ba"
   },
   "outputs": [
    {
     "data": {
      "image/png": "[encoded data removed]",
      "text/plain": [
       "<Figure size 432x288 with 1 Axes>"
      ]
     },
     "metadata": {
      "needs_background": "light"
     },
     "output_type": "display_data"
    }
   ],
   "source": [
    "plt.scatter(month_data, profit_data, color = \"r\", marker = \"o\", s = 30)\n",
    "\n",
    "# predicted response vector\n",
    "profit_data_predicted = model.predict(month_data)\n",
    "\n",
    "# plotting the regression line\n",
    "plt.plot(month_data, profit_data_predicted, color = \"b\")\n",
    "\n",
    "# Setting lable names for the plot\n",
    "plt.xlabel('Months') \n",
    "plt.ylabel('Profit (in K$, 1K=1000$)') \n",
    "\n",
    "# Plotiing the graph\n",
    "plt.show()"
   ]
  }
 ],
 "metadata": {
  "colab": {
   "name": "linear_regression_sklearn.ipynb",
   "provenance": []
  },
  "kernelspec": {
   "display_name": "Python 3",
   "language": "python",
   "name": "python3"
  },
  "language_info": {
   "codemirror_mode": {
    "name": "ipython",
    "version": 3
   },
   "file_extension": ".py",
   "mimetype": "text/x-python",
   "name": "python",
   "nbconvert_exporter": "python",
   "pygments_lexer": "ipython3",
   "version": "3.7.4"
  }
 },
 "nbformat": 4,
 "nbformat_minor": 1
}
